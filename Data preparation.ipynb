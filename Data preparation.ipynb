{
 "cells": [
  {
   "cell_type": "markdown",
   "metadata": {
    "application/vnd.databricks.v1+cell": {
     "cellMetadata": {},
     "inputWidgets": {},
     "nuid": "74f2645d-839c-4775-beec-6d5bfa4d284d",
     "showTitle": false,
     "tableResultSettingsMap": {},
     "title": ""
    }
   },
   "source": [
    "# ハンズオンデータの準備\n",
    "\n",
    "Sparkでワークスペースファイルを読み込むので、サーバレスコンピュートではなく汎用コンピュートを使用。\n",
    "\n",
    "[ワークスペースファイルとは？ \\| Databricks Documentation](https://docs.databricks.com/aws/ja/files/workspace#%E5%88%B6%E9%99%90)"
   ]
  },
  {
   "cell_type": "code",
   "execution_count": 0,
   "metadata": {
    "application/vnd.databricks.v1+cell": {
     "cellMetadata": {
      "byteLimit": 2048000,
      "rowLimit": 10000
     },
     "inputWidgets": {},
     "nuid": "e93c56a1-7f75-40a3-825d-21887be1f511",
     "showTitle": false,
     "tableResultSettingsMap": {},
     "title": ""
    }
   },
   "outputs": [],
   "source": [
    "# ハンズオンで使用するカタログとスキーマを指定\n",
    "catalog_name = \"takaakiyayoi_catalog\"\n",
    "schema_name = \"agents_lab\""
   ]
  },
  {
   "cell_type": "code",
   "execution_count": 0,
   "metadata": {
    "application/vnd.databricks.v1+cell": {
     "cellMetadata": {
      "byteLimit": 2048000,
      "rowLimit": 10000
     },
     "inputWidgets": {},
     "nuid": "17c71ec2-85db-42ed-96e3-c8d41da23c46",
     "showTitle": false,
     "tableResultSettingsMap": {},
     "title": ""
    }
   },
   "outputs": [],
   "source": [
    "# カタログの作成\n",
    "spark.sql(f\"CREATE CATALOG IF NOT EXISTS {catalog_name}\")\n",
    "spark.sql(f\"GRANT USE CATALOG ON CATALOG {catalog_name} TO `account users`\")\n",
    "# スキーマの作成\n",
    "spark.sql(f\"CREATE SCHEMA IF NOT EXISTS {catalog_name}.{schema_name}\")\n",
    "spark.sql(f\"GRANT USE SCHEMA, SELECT ON SCHEMA {catalog_name}.{schema_name} TO `account users`\")"
   ]
  },
  {
   "cell_type": "code",
   "execution_count": 0,
   "metadata": {
    "application/vnd.databricks.v1+cell": {
     "cellMetadata": {
      "byteLimit": 2048000,
      "rowLimit": 10000
     },
     "inputWidgets": {},
     "nuid": "3bd9b9c9-b7d7-4368-9fd7-46fc1659ef95",
     "showTitle": false,
     "tableResultSettingsMap": {},
     "title": ""
    }
   },
   "outputs": [],
   "source": [
    "import os\n",
    "\n",
    "# ワークスペースファイルとして保存されているCSVを読み込み\n",
    "cust_service_data_df = spark.read.format(\"csv\").load(f\"file:{os.getcwd()}/data/cust_service_data.csv\", header=True, inferSchema=True)\n",
    "policies_df = spark.read.format(\"csv\").load(f\"file:{os.getcwd()}/data/policies.csv\", header=True, inferSchema=True)\n",
    "product_docs_df = spark.read.format(\"csv\").load(f\"file:{os.getcwd()}/data/product_docs.csv\", header=True, inferSchema=True, multiline='true')\n",
    "\n",
    "display(cust_service_data_df)\n",
    "display(policies_df)\n",
    "display(product_docs_df)\n",
    "\n",
    "# Unity Catalogのテーブルに保存\n",
    "cust_service_data_df.write.mode(\"overwrite\").saveAsTable(f\"{catalog_name}.{schema_name}.cust_service_data\")\n",
    "policies_df.write.mode(\"overwrite\").saveAsTable(f\"{catalog_name}.{schema_name}.policies\")\n",
    "product_docs_df.write.mode(\"overwrite\").saveAsTable(f\"{catalog_name}.{schema_name}.product_docs\")"
   ]
  }
 ],
 "metadata": {
  "application/vnd.databricks.v1+notebook": {
   "computePreferences": null,
   "dashboards": [],
   "environmentMetadata": {
    "base_environment": "",
    "environment_version": "2"
   },
   "inputWidgetPreferences": null,
   "language": "python",
   "notebookMetadata": {
    "pythonIndentUnit": 2
   },
   "notebookName": "Data preparation",
   "widgets": {}
  },
  "language_info": {
   "name": "python"
  }
 },
 "nbformat": 4,
 "nbformat_minor": 0
}
