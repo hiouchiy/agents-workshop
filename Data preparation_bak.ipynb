{
 "cells": [
  {
   "cell_type": "markdown",
   "metadata": {
    "application/vnd.databricks.v1+cell": {
     "cellMetadata": {},
     "inputWidgets": {},
     "nuid": "74f2645d-839c-4775-beec-6d5bfa4d284d",
     "showTitle": false,
     "tableResultSettingsMap": {},
     "title": ""
    }
   },
   "source": [
    "Sparkでワークスペースファイルを読み込むので、サーバレスコンピュートではなく汎用コンピュートを使用。\n",
    "\n",
    "[ワークスペースファイルとは？ \\| Databricks Documentation](https://docs.databricks.com/aws/ja/files/workspace#%E5%88%B6%E9%99%90)"
   ]
  },
  {
   "cell_type": "code",
   "execution_count": 0,
   "metadata": {
    "application/vnd.databricks.v1+cell": {
     "cellMetadata": {
      "byteLimit": 2048000,
      "rowLimit": 10000
     },
     "inputWidgets": {},
     "nuid": "e93c56a1-7f75-40a3-825d-21887be1f511",
     "showTitle": false,
     "tableResultSettingsMap": {},
     "title": ""
    }
   },
   "outputs": [],
   "source": [
    "catalog_name = \"takaakiyayoi_catalog\"\n",
    "schema_name = \"agents_lab\""
   ]
  },
  {
   "cell_type": "code",
   "execution_count": 0,
   "metadata": {
    "application/vnd.databricks.v1+cell": {
     "cellMetadata": {
      "byteLimit": 2048000,
      "rowLimit": 10000
     },
     "inputWidgets": {},
     "nuid": "3bd9b9c9-b7d7-4368-9fd7-46fc1659ef95",
     "showTitle": false,
     "tableResultSettingsMap": {},
     "title": ""
    }
   },
   "outputs": [],
   "source": [
    "import os\n",
    "\n",
    "#cust_service_data_df = spark.read.format(\"csv\").load(f\"file:{os.getcwd()}/data/cust_service_data.csv\", header=True, inferSchema=True)\n",
    "#policies_df = spark.read.format(\"csv\").load(f\"file:{os.getcwd()}/data/policies.csv\", header=True, inferSchema=True)\n",
    "product_docs_df = spark.read.format(\"csv\").load(f\"file:{os.getcwd()}/data/product_docs.csv\", header=True, inferSchema=True, multiline='true')\n",
    "\n",
    "#display(cust_service_data_df)\n",
    "#display(policies_df)\n",
    "display(product_docs_df)\n",
    "\n",
    "#cust_service_data_df.write.mode(\"overwrite\").saveAsTable(f\"{catalog_name}.{schema_name}.cust_service_data\")\n",
    "#policies_df.write.mode(\"overwrite\").saveAsTable(f\"{catalog_name}.{schema_name}.policies\")\n",
    "product_docs_df.write.mode(\"overwrite\").saveAsTable(f\"{catalog_name}.{schema_name}.product_docs\")"
   ]
  },
  {
   "cell_type": "code",
   "execution_count": 0,
   "metadata": {
    "application/vnd.databricks.v1+cell": {
     "cellMetadata": {
      "byteLimit": 2048000,
      "rowLimit": 10000
     },
     "inputWidgets": {},
     "nuid": "7e3fd102-9657-4262-b0cb-5f4ef669a406",
     "showTitle": false,
     "tableResultSettingsMap": {},
     "title": ""
    }
   },
   "outputs": [],
   "source": [
    "cust_service_data_df = spark.read.table(f\"{catalog_name}.{schema_name}.cust_service_data_jpn\")\n",
    "policies_df = spark.read.table(f\"{catalog_name}.{schema_name}.policies_jpn\")\n",
    "product_docs_df = spark.read.table(f\"{catalog_name}.{schema_name}.product_doc_jpn\")\n",
    "display(cust_service_data_df)\n",
    "display(policies_df)\n",
    "display(product_docs_df)"
   ]
  },
  {
   "cell_type": "code",
   "execution_count": 0,
   "metadata": {
    "application/vnd.databricks.v1+cell": {
     "cellMetadata": {
      "byteLimit": 2048000,
      "rowLimit": 10000
     },
     "inputWidgets": {},
     "nuid": "c1e18603-b1dc-4d86-9ea8-f5190b82dea1",
     "showTitle": false,
     "tableResultSettingsMap": {},
     "title": ""
    }
   },
   "outputs": [],
   "source": [
    "cust_service_data_pdf = cust_service_data_df.toPandas()\n",
    "policies_pdf = policies_df.toPandas()\n",
    "product_docs_pdf = product_docs_df.toPandas()\n",
    "\n",
    "cust_service_data_pdf.to_csv(\"data/cust_service_data.csv\", index=False)\n",
    "policies_pdf.to_csv(\"data/policies.csv\", index=False)\n",
    "product_docs_pdf.to_csv(\"data/product_docs.csv\", index=False)"
   ]
  },
  {
   "cell_type": "code",
   "execution_count": 0,
   "metadata": {
    "application/vnd.databricks.v1+cell": {
     "cellMetadata": {
      "byteLimit": 2048000,
      "rowLimit": 10000
     },
     "inputWidgets": {},
     "nuid": "aa6395d3-b0f7-4c3a-9f7c-53027f493f1f",
     "showTitle": false,
     "tableResultSettingsMap": {},
     "title": ""
    }
   },
   "outputs": [],
   "source": [
    "import os\n",
    "\n",
    "product_docs_df = spark.read.format(\"csv\").load(f\"file:{os.getcwd()}/data/product_docs.csv\", header=True, inferSchema=True, multiline='true')\n",
    "display(product_docs_df)"
   ]
  },
  {
   "cell_type": "code",
   "execution_count": 0,
   "metadata": {
    "application/vnd.databricks.v1+cell": {
     "cellMetadata": {},
     "inputWidgets": {},
     "nuid": "45778b80-418a-4be2-bb34-999881001801",
     "showTitle": false,
     "tableResultSettingsMap": {},
     "title": ""
    }
   },
   "outputs": [],
   "source": []
  }
 ],
 "metadata": {
  "application/vnd.databricks.v1+notebook": {
   "computePreferences": null,
   "dashboards": [],
   "environmentMetadata": {
    "base_environment": "",
    "environment_version": "2"
   },
   "inputWidgetPreferences": null,
   "language": "python",
   "notebookMetadata": {
    "pythonIndentUnit": 2
   },
   "notebookName": "Data preparation_bak",
   "widgets": {}
  },
  "language_info": {
   "name": "python"
  }
 },
 "nbformat": 4,
 "nbformat_minor": 0
}
